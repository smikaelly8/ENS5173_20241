{
 "cells": [
  {
   "cell_type": "markdown",
   "id": "74e519d2-da98-4b2f-aaa4-d94303d30672",
   "metadata": {},
   "source": [
    "# Aula 03/04/2024 - Comandos básicos no Python\n",
    "\n",
    "Nesta aula aprenderemos a importar pacotes e os tipos de variáveis\\\n",
    "Desenvolvedora: Mikaelly Santos"
   ]
  },
  {
   "cell_type": "markdown",
   "id": "a92c663d-89cd-49e0-9d13-d0be8ddd1dcb",
   "metadata": {},
   "source": [
    "## Tipos de variáveis"
   ]
  },
  {
   "cell_type": "code",
   "execution_count": 6,
   "id": "aa7fadbe-f4ca-4111-8ceb-6b5e052a7e00",
   "metadata": {},
   "outputs": [
    {
     "name": "stdout",
     "output_type": "stream",
     "text": [
      "a = 1.0\n",
      "<class 'float'>\n"
     ]
    }
   ],
   "source": [
    "# criando varáveis inteiras\n",
    "a = 1.0\n",
    "print ('a = '+str(a))\n",
    "print(type(a))"
   ]
  },
  {
   "cell_type": "code",
   "execution_count": 7,
   "id": "85177035-6e9d-4fef-b5b9-f18371810dcc",
   "metadata": {},
   "outputs": [
    {
     "name": "stdout",
     "output_type": "stream",
     "text": [
      "Salve o Corinthians\n",
      "<class 'str'>\n"
     ]
    }
   ],
   "source": [
    "# criando variáveis string\n",
    "b ='Salve o '\n",
    "c='Corinthians'\n",
    "print (b+c)\n",
    "print(type(b))"
   ]
  },
  {
   "cell_type": "code",
   "execution_count": 7,
   "id": "ec141c3c-0335-4051-b601-a044d7eb24bf",
   "metadata": {},
   "outputs": [
    {
     "name": "stdout",
     "output_type": "stream",
     "text": [
      "Salve o Corinthians\n",
      "<class 'str'>\n"
     ]
    }
   ],
   "source": [
    "# criando variáveis string\n",
    "b ='Salve o '\n",
    "c='Corinthians'\n",
    "print (b+c)\n",
    "print(type(b))"
   ]
  },
  {
   "cell_type": "code",
   "execution_count": 8,
   "id": "13c70fa0-d5bd-4129-8810-cf0e85bc189b",
   "metadata": {},
   "outputs": [
    {
     "name": "stdout",
     "output_type": "stream",
     "text": [
      "666.666\n",
      "<class 'float'>\n"
     ]
    }
   ],
   "source": [
    "#criando variáveis float/double\n",
    "d= 666.666\n",
    "print(d)\n",
    "print(type(d))"
   ]
  }
 ],
 "metadata": {
  "kernelspec": {
   "display_name": "Python 3 (ipykernel)",
   "language": "python",
   "name": "python3"
  },
  "language_info": {
   "codemirror_mode": {
    "name": "ipython",
    "version": 3
   },
   "file_extension": ".py",
   "mimetype": "text/x-python",
   "name": "python",
   "nbconvert_exporter": "python",
   "pygments_lexer": "ipython3",
   "version": "3.11.8"
  }
 },
 "nbformat": 4,
 "nbformat_minor": 5
}
