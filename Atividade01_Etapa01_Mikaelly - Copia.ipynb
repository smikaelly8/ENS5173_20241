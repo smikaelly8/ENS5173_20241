{
 "cells": [
  {
   "cell_type": "markdown",
   "id": "84902419-9b8f-49bf-bbe8-6056b76e33aa",
   "metadata": {},
   "source": [
    "# Aula 02 - Python\n",
    "## Dados Numéricos"
   ]
  },
  {
   "cell_type": "code",
   "execution_count": 1,
   "id": "df7cf3bb-dab4-4d69-afbd-d5b45eeb2dd2",
   "metadata": {},
   "outputs": [
    {
     "name": "stdout",
     "output_type": "stream",
     "text": [
      "Valor de a = 1\n"
     ]
    },
    {
     "data": {
      "text/plain": [
       "int"
      ]
     },
     "execution_count": 1,
     "metadata": {},
     "output_type": "execute_result"
    }
   ],
   "source": [
    "# Variável inteira\n",
    "a = 1\n",
    "print('Valor de a = '+str(a))\n",
    "type(a)"
   ]
  },
  {
   "cell_type": "code",
   "execution_count": 2,
   "id": "0a197f26-1b67-42b9-a9db-170330472730",
   "metadata": {},
   "outputs": [
    {
     "name": "stdout",
     "output_type": "stream",
     "text": [
      "1.0\n"
     ]
    },
    {
     "data": {
      "text/plain": [
       "float"
      ]
     },
     "execution_count": 2,
     "metadata": {},
     "output_type": "execute_result"
    }
   ],
   "source": [
    "# Variável dupla precisão\n",
    "b = 1.0\n",
    "print(b)\n",
    "type(b)"
   ]
  },
  {
   "cell_type": "code",
   "execution_count": 3,
   "id": "70102091-2156-4a61-89ab-73a956ffc0f8",
   "metadata": {},
   "outputs": [
    {
     "name": "stdout",
     "output_type": "stream",
     "text": [
      "1\n"
     ]
    },
    {
     "data": {
      "text/plain": [
       "int"
      ]
     },
     "execution_count": 3,
     "metadata": {},
     "output_type": "execute_result"
    }
   ],
   "source": [
    "# Converter float para int\n",
    "c = int(b)\n",
    "print(c)\n",
    "type(c)"
   ]
  },
  {
   "cell_type": "code",
   "execution_count": 5,
   "id": "94bd5aa5-88aa-485d-b1e7-537773bcf38c",
   "metadata": {},
   "outputs": [
    {
     "name": "stdout",
     "output_type": "stream",
     "text": [
      "nan\n"
     ]
    },
    {
     "data": {
      "text/plain": [
       "float"
      ]
     },
     "execution_count": 5,
     "metadata": {},
     "output_type": "execute_result"
    }
   ],
   "source": [
    "# Delacrando nan\n",
    "import numpy as np\n",
    "d = np.nan\n",
    "print(d)\n",
    "type(d)"
   ]
  },
  {
   "cell_type": "code",
   "execution_count": 6,
   "id": "ec303c3e-80ca-421c-a253-2d296efc280b",
   "metadata": {},
   "outputs": [
    {
     "name": "stdout",
     "output_type": "stream",
     "text": [
      "nan\n",
      "nan\n",
      "1.0\n"
     ]
    }
   ],
   "source": [
    "# Operação com NaN\n",
    "e = d*1\n",
    "print(e)\n",
    "e = d+1\n",
    "print(e)\n",
    "e = np.nansum([d,1])\n",
    "print(e)"
   ]
  },
  {
   "cell_type": "markdown",
   "id": "f09b8a0d-a8f4-495c-95ce-b032670f08ee",
   "metadata": {},
   "source": [
    "## Dados de Texto"
   ]
  },
  {
   "cell_type": "code",
   "execution_count": 7,
   "id": "1cddc84f-33f0-4878-9430-91a8c062f02a",
   "metadata": {},
   "outputs": [
    {
     "name": "stdout",
     "output_type": "stream",
     "text": [
      "Fábio\n",
      "Gabriel\n",
      "FábioGabriel\n",
      "Fábio Gabriel\n"
     ]
    }
   ],
   "source": [
    "# Declaração de variável texto\n",
    "f = 'Fábio'\n",
    "g = \"Gabriel\"\n",
    "print(f)\n",
    "print(g)\n",
    "print(f+g)\n",
    "print(f+' '+g)"
   ]
  },
  {
   "cell_type": "markdown",
   "id": "15a624a1-7330-43ac-abd5-32053ff9ead5",
   "metadata": {},
   "source": [
    "## Dados tipo bool - lógica"
   ]
  },
  {
   "cell_type": "code",
   "execution_count": 8,
   "id": "e5ea3c37-f1ef-422e-9b8c-463c4066652f",
   "metadata": {},
   "outputs": [
    {
     "data": {
      "text/plain": [
       "True"
      ]
     },
     "execution_count": 8,
     "metadata": {},
     "output_type": "execute_result"
    }
   ],
   "source": [
    "a == 1"
   ]
  },
  {
   "cell_type": "code",
   "execution_count": 9,
   "id": "dfe88477-d32e-4251-82b3-ad9884b0ccce",
   "metadata": {},
   "outputs": [
    {
     "name": "stdout",
     "output_type": "stream",
     "text": [
      "True\n"
     ]
    },
    {
     "data": {
      "text/plain": [
       "bool"
      ]
     },
     "execution_count": 9,
     "metadata": {},
     "output_type": "execute_result"
    }
   ],
   "source": [
    "h = (a==1)\n",
    "print(h)\n",
    "type(h)"
   ]
  },
  {
   "cell_type": "code",
   "execution_count": 10,
   "id": "58f9a70c-c281-4134-b1f3-2ee7e0a61897",
   "metadata": {},
   "outputs": [
    {
     "name": "stdout",
     "output_type": "stream",
     "text": [
      "False\n"
     ]
    },
    {
     "data": {
      "text/plain": [
       "bool"
      ]
     },
     "execution_count": 10,
     "metadata": {},
     "output_type": "execute_result"
    }
   ],
   "source": [
    "h = (a==2)\n",
    "print(h)\n",
    "type(h)"
   ]
  },
  {
   "cell_type": "code",
   "execution_count": 11,
   "id": "4eeeedaa-156f-4538-b49c-a0aab0947693",
   "metadata": {},
   "outputs": [
    {
     "data": {
      "text/plain": [
       "bool"
      ]
     },
     "execution_count": 11,
     "metadata": {},
     "output_type": "execute_result"
    }
   ],
   "source": [
    "i = True\n",
    "type(i)"
   ]
  },
  {
   "cell_type": "code",
   "execution_count": 12,
   "id": "a0ae4db7-e506-460e-9b5b-b6f55a41730c",
   "metadata": {},
   "outputs": [
    {
     "data": {
      "text/plain": [
       "str"
      ]
     },
     "execution_count": 12,
     "metadata": {},
     "output_type": "execute_result"
    }
   ],
   "source": [
    "ii = 'True'\n",
    "type(ii)"
   ]
  },
  {
   "cell_type": "markdown",
   "id": "b53e39c3-e656-428d-9468-b580a9827524",
   "metadata": {},
   "source": [
    "## Operação de comparação"
   ]
  },
  {
   "cell_type": "code",
   "execution_count": 13,
   "id": "c3e2a006-6bcf-4815-9177-4dcd5d2b4263",
   "metadata": {},
   "outputs": [
    {
     "data": {
      "text/plain": [
       "True"
      ]
     },
     "execution_count": 13,
     "metadata": {},
     "output_type": "execute_result"
    }
   ],
   "source": [
    "# Operação ==\n",
    "a==b"
   ]
  },
  {
   "cell_type": "code",
   "execution_count": 14,
   "id": "86e49b47-89b7-48d4-a7ee-87374b506cfe",
   "metadata": {},
   "outputs": [
    {
     "data": {
      "text/plain": [
       "False"
      ]
     },
     "execution_count": 14,
     "metadata": {},
     "output_type": "execute_result"
    }
   ],
   "source": [
    "# Operação ><\n",
    "a>b"
   ]
  },
  {
   "cell_type": "code",
   "execution_count": 15,
   "id": "7d819016-d199-4850-8144-0fa1f3368782",
   "metadata": {},
   "outputs": [
    {
     "data": {
      "text/plain": [
       "False"
      ]
     },
     "execution_count": 15,
     "metadata": {},
     "output_type": "execute_result"
    }
   ],
   "source": [
    "# Operação !=\n",
    "a!=b"
   ]
  },
  {
   "cell_type": "code",
   "execution_count": 16,
   "id": "98cf438f-5bd6-4b94-93dc-57d182daeff0",
   "metadata": {},
   "outputs": [
    {
     "data": {
      "text/plain": [
       "True"
      ]
     },
     "execution_count": 16,
     "metadata": {},
     "output_type": "execute_result"
    }
   ],
   "source": [
    "# Operação >= ou <=\n",
    "a>=b"
   ]
  },
  {
   "cell_type": "markdown",
   "id": "5e9fc67f-8661-436d-a099-ebf334d2c695",
   "metadata": {},
   "source": [
    "## Operações matemáticas"
   ]
  },
  {
   "cell_type": "code",
   "execution_count": 17,
   "id": "8d18e6bc-e333-484c-a776-5943d5e60ff2",
   "metadata": {},
   "outputs": [
    {
     "data": {
      "text/plain": [
       "2.0"
      ]
     },
     "execution_count": 17,
     "metadata": {},
     "output_type": "execute_result"
    }
   ],
   "source": [
    "# Soma \n",
    "a+b"
   ]
  },
  {
   "cell_type": "code",
   "execution_count": 18,
   "id": "fdf243c7-0894-437b-9758-d8427b13d1da",
   "metadata": {},
   "outputs": [
    {
     "name": "stdout",
     "output_type": "stream",
     "text": [
      "2.0\n"
     ]
    }
   ],
   "source": [
    "# Soma e atribui valor\n",
    "ab = a+b\n",
    "print(ab)"
   ]
  },
  {
   "cell_type": "code",
   "execution_count": 19,
   "id": "9847f626-84b6-4d6f-9719-600be0db1b66",
   "metadata": {},
   "outputs": [
    {
     "name": "stdout",
     "output_type": "stream",
     "text": [
      "Não use l como nome de variável\n",
      "1.0\n"
     ]
    }
   ],
   "source": [
    "# Multiplicação\n",
    "l = a*b # Não use l como variável\n",
    "print(\"Não use l como nome de variável\")\n",
    "j = a*b\n",
    "print(j)"
   ]
  },
  {
   "cell_type": "code",
   "execution_count": 20,
   "id": "5e4abca2-186d-4514-90c9-e3ad2b3cd5f5",
   "metadata": {},
   "outputs": [
    {
     "data": {
      "text/plain": [
       "1.0"
      ]
     },
     "execution_count": 20,
     "metadata": {},
     "output_type": "execute_result"
    }
   ],
   "source": [
    "# Divisão\n",
    "a/b"
   ]
  },
  {
   "cell_type": "code",
   "execution_count": 21,
   "id": "98791cda-37bd-4330-921a-4760611b0108",
   "metadata": {},
   "outputs": [
    {
     "data": {
      "text/plain": [
       "25"
      ]
     },
     "execution_count": 21,
     "metadata": {},
     "output_type": "execute_result"
    }
   ],
   "source": [
    "# Potencia\n",
    "5**2"
   ]
  },
  {
   "cell_type": "code",
   "execution_count": 22,
   "id": "5eb881ce-e3d1-42ff-b6e1-22255a9c4b43",
   "metadata": {},
   "outputs": [
    {
     "data": {
      "text/plain": [
       "22026.465794806718"
      ]
     },
     "execution_count": 22,
     "metadata": {},
     "output_type": "execute_result"
    }
   ],
   "source": [
    "# Operações matemáticas com a bibliotéca math\n",
    "import math\n",
    "\n",
    "math.exp(10)"
   ]
  },
  {
   "cell_type": "code",
   "execution_count": 23,
   "id": "31947ded-a80c-444a-8baf-14e3867c5071",
   "metadata": {},
   "outputs": [
    {
     "data": {
      "text/plain": [
       "1.0"
      ]
     },
     "execution_count": 23,
     "metadata": {},
     "output_type": "execute_result"
    }
   ],
   "source": [
    "math.exp(0)\n"
   ]
  },
  {
   "cell_type": "code",
   "execution_count": 24,
   "id": "9d804d1c-60b6-41ac-899c-25dc7ecfffaa",
   "metadata": {},
   "outputs": [
    {
     "data": {
      "text/plain": [
       "2.718281828459045"
      ]
     },
     "execution_count": 24,
     "metadata": {},
     "output_type": "execute_result"
    }
   ],
   "source": [
    "math.exp(a)"
   ]
  },
  {
   "cell_type": "code",
   "execution_count": 25,
   "id": "e105ccbf-3130-4f45-bd13-08f847230300",
   "metadata": {},
   "outputs": [
    {
     "data": {
      "text/plain": [
       "4.5399929762484854e-05"
      ]
     },
     "execution_count": 25,
     "metadata": {},
     "output_type": "execute_result"
    }
   ],
   "source": [
    "math.exp(-10)"
   ]
  },
  {
   "cell_type": "code",
   "execution_count": 26,
   "id": "8076d296-2dde-4853-a2be-9855de759a66",
   "metadata": {},
   "outputs": [
    {
     "data": {
      "text/plain": [
       "0.0"
      ]
     },
     "execution_count": 26,
     "metadata": {},
     "output_type": "execute_result"
    }
   ],
   "source": [
    "import math as mt\n",
    "mt.log(c)"
   ]
  },
  {
   "cell_type": "code",
   "execution_count": 27,
   "id": "36fce733-c51c-41cf-a69c-6af9859ccfba",
   "metadata": {},
   "outputs": [
    {
     "data": {
      "text/plain": [
       "2.0"
      ]
     },
     "execution_count": 27,
     "metadata": {},
     "output_type": "execute_result"
    }
   ],
   "source": [
    "mt.log10(100)"
   ]
  },
  {
   "cell_type": "markdown",
   "id": "958c0e42-e714-484e-b477-54e8f1dff43f",
   "metadata": {},
   "source": [
    "## Listas"
   ]
  },
  {
   "cell_type": "code",
   "execution_count": 28,
   "id": "82ca5a8b-4b81-4f7e-b2e4-a606d01ed6ec",
   "metadata": {},
   "outputs": [
    {
     "name": "stdout",
     "output_type": "stream",
     "text": [
      "[1, 2, 3]\n"
     ]
    }
   ],
   "source": [
    "myFirstList = [1,2,3]\n",
    "print(myFirstList)"
   ]
  },
  {
   "cell_type": "code",
   "execution_count": 29,
   "id": "93209a1b-cdb3-477b-aa90-4c4d46821caa",
   "metadata": {},
   "outputs": [
    {
     "name": "stdout",
     "output_type": "stream",
     "text": [
      "1\n",
      "3\n"
     ]
    }
   ],
   "source": [
    "# Acessando valores da lista pelo index\n",
    "print(myFirstList[0])\n",
    "print(myFirstList[2])"
   ]
  },
  {
   "cell_type": "code",
   "execution_count": 30,
   "id": "afa2929a-ea22-4f6a-a0c4-414ff52ed617",
   "metadata": {},
   "outputs": [
    {
     "data": {
      "text/plain": [
       "False"
      ]
     },
     "execution_count": 30,
     "metadata": {},
     "output_type": "execute_result"
    }
   ],
   "source": [
    "myFirstList==a"
   ]
  },
  {
   "cell_type": "code",
   "execution_count": 31,
   "id": "acb16076-1547-432a-b111-94c8ed3b1503",
   "metadata": {},
   "outputs": [
    {
     "data": {
      "text/plain": [
       "True"
      ]
     },
     "execution_count": 31,
     "metadata": {},
     "output_type": "execute_result"
    }
   ],
   "source": [
    "myFirstList[0]==a"
   ]
  },
  {
   "cell_type": "code",
   "execution_count": 32,
   "id": "e843056e-c098-4d80-a2ae-3584ac01150c",
   "metadata": {},
   "outputs": [
    {
     "name": "stdout",
     "output_type": "stream",
     "text": [
      "[1, 1, 'c']\n"
     ]
    }
   ],
   "source": [
    "mySecList = [1,a,'c']\n",
    "print(mySecList)"
   ]
  },
  {
   "cell_type": "code",
   "execution_count": 33,
   "id": "82d9032a-573b-4499-8efe-f974b564c979",
   "metadata": {},
   "outputs": [
    {
     "data": {
      "text/plain": [
       "list"
      ]
     },
     "execution_count": 33,
     "metadata": {},
     "output_type": "execute_result"
    }
   ],
   "source": [
    "type(mySecList)"
   ]
  },
  {
   "cell_type": "code",
   "execution_count": 34,
   "id": "d37d3949-72cf-47bb-90c7-abf6c1606b66",
   "metadata": {},
   "outputs": [
    {
     "data": {
      "text/plain": [
       "str"
      ]
     },
     "execution_count": 34,
     "metadata": {},
     "output_type": "execute_result"
    }
   ],
   "source": [
    "type(mySecList[2])"
   ]
  },
  {
   "cell_type": "code",
   "execution_count": 35,
   "id": "f35e5671-9ce7-4fa3-aa3a-eb74d7592150",
   "metadata": {},
   "outputs": [
    {
     "data": {
      "text/plain": [
       "int"
      ]
     },
     "execution_count": 35,
     "metadata": {},
     "output_type": "execute_result"
    }
   ],
   "source": [
    "type(mySecList[1])"
   ]
  },
  {
   "cell_type": "markdown",
   "id": "26379ff8-3e37-4ffb-8091-1967fff4c321",
   "metadata": {},
   "source": [
    "## Caminhos = path"
   ]
  },
  {
   "cell_type": "code",
   "execution_count": 41,
   "id": "95d20e56-1bbc-4da1-b44a-e91ed01cfe5c",
   "metadata": {},
   "outputs": [
    {
     "name": "stdout",
     "output_type": "stream",
     "text": [
      "C:\\Users\\mikae\\Downloads\\poluicao\\GitHub\\ENS5173_20241\n"
     ]
    }
   ],
   "source": [
    "path = r\"C:\\Users\\mikae\\Downloads\\poluicao\\GitHub\\ENS5173_20241\"\n",
    "print(path)"
   ]
  },
  {
   "cell_type": "code",
   "execution_count": 47,
   "id": "82f77508-143f-41fb-8cf1-722f508625d7",
   "metadata": {},
   "outputs": [
    {
     "name": "stdout",
     "output_type": "stream",
     "text": [
      "C:/Users/mikae/Downloads/poluicao/GitHub/ENS5173_20241\n"
     ]
    }
   ],
   "source": [
    "path = \"C:/Users/mikae/Downloads/poluicao/GitHub/ENS5173_20241\"\n",
    "print(path)"
   ]
  },
  {
   "cell_type": "code",
   "execution_count": 46,
   "id": "aa08c15b-73c6-481e-a4ee-3234cb474f4e",
   "metadata": {},
   "outputs": [
    {
     "data": {
      "text/plain": [
       "['.git',\n",
       " '.gitignore',\n",
       " '.ipynb_checkpoints',\n",
       " 'Aula01.ipynb',\n",
       " 'imput',\n",
       " 'scripts',\n",
       " 'venv']"
      ]
     },
     "execution_count": 46,
     "metadata": {},
     "output_type": "execute_result"
    }
   ],
   "source": [
    "import os\n",
    "# Listar arquivos na pasta\n",
    "os.listdir(path)"
   ]
  },
  {
   "cell_type": "code",
   "execution_count": 48,
   "id": "2115de70-391c-4001-805d-e482e8d2f9bd",
   "metadata": {},
   "outputs": [
    {
     "data": {
      "text/plain": [
       "'.git'"
      ]
     },
     "execution_count": 48,
     "metadata": {},
     "output_type": "execute_result"
    }
   ],
   "source": [
    "# Selecionar primeiro arquivo listado\n",
    "os.listdir(path)[0]"
   ]
  },
  {
   "cell_type": "code",
   "execution_count": 49,
   "id": "c9699f0e-fa5f-437e-bcd9-0e6789a19723",
   "metadata": {},
   "outputs": [
    {
     "data": {
      "text/plain": [
       "'C:/Users/mikae/Downloads/poluicao/GitHub/ENS5173_20241/.git'"
      ]
     },
     "execution_count": 49,
     "metadata": {},
     "output_type": "execute_result"
    }
   ],
   "source": [
    "# Concatenando caminhos\n",
    "path+\"/\"+os.listdir(path)[0]"
   ]
  },
  {
   "cell_type": "code",
   "execution_count": 50,
   "id": "397d8cba-6234-4d0d-ba2f-d1c055b692c6",
   "metadata": {},
   "outputs": [
    {
     "data": {
      "text/plain": [
       "['COMMIT_EDITMSG',\n",
       " 'config',\n",
       " 'description',\n",
       " 'FETCH_HEAD',\n",
       " 'HEAD',\n",
       " 'hooks',\n",
       " 'index',\n",
       " 'info',\n",
       " 'logs',\n",
       " 'objects',\n",
       " 'packed-refs',\n",
       " 'refs']"
      ]
     },
     "execution_count": 50,
     "metadata": {},
     "output_type": "execute_result"
    }
   ],
   "source": [
    "# Listando caminho concatenado\n",
    "os.listdir(path+\"/\"+os.listdir(path)[0])"
   ]
  },
  {
   "cell_type": "code",
   "execution_count": 51,
   "id": "8be5a8a2-f45f-44d4-9075-d124072bfed2",
   "metadata": {},
   "outputs": [
    {
     "data": {
      "text/plain": [
       "'C:\\\\Users\\\\mikae\\\\Downloads\\\\poluicao\\\\GitHub\\\\ENS5173_20241\\\\venv\\\\Scripts'"
      ]
     },
     "execution_count": 51,
     "metadata": {},
     "output_type": "execute_result"
    }
   ],
   "source": [
    "# Diretório que estou trababalhando\n",
    "os.getcwd()"
   ]
  },
  {
   "cell_type": "code",
   "execution_count": 52,
   "id": "725d47c7-6b80-4f70-a9a5-6be346ad9d73",
   "metadata": {},
   "outputs": [],
   "source": [
    "# Mudo de diretório para o caminho \n",
    "os.chdir('C:\\\\Users\\\\mikae\\\\Downloads\\\\')"
   ]
  },
  {
   "cell_type": "code",
   "execution_count": 53,
   "id": "4ef7be1e-2f50-4ea4-afa9-b8b0c0d250be",
   "metadata": {},
   "outputs": [
    {
     "data": {
      "text/plain": [
       "'C:\\\\Users\\\\mikae\\\\Downloads'"
      ]
     },
     "execution_count": 53,
     "metadata": {},
     "output_type": "execute_result"
    }
   ],
   "source": [
    "os.getcwd()"
   ]
  },
  {
   "cell_type": "code",
   "execution_count": 54,
   "id": "b935725e-f582-4d56-9ba1-481bb9e63bdd",
   "metadata": {},
   "outputs": [
    {
     "name": "stdout",
     "output_type": "stream",
     "text": [
      "Criando diretório C:\\Users\\mikae\\Downloads/test\n"
     ]
    }
   ],
   "source": [
    "# Criando diretório\n",
    "new_path = os.getcwd()+'/test'\n",
    "\n",
    "if os.path.isdir(new_path):\n",
    "    print('diretório já existe')\n",
    "else:\n",
    "    print('Criando diretório '+new_path)\n",
    "    os.mkdir(new_path)"
   ]
  },
  {
   "cell_type": "code",
   "execution_count": 55,
   "id": "8108d565-bcb4-4b6c-94e7-18a6683b3e2c",
   "metadata": {},
   "outputs": [
    {
     "name": "stdout",
     "output_type": "stream",
     "text": [
      "Criando diretório C:\\Users\\mikae\\Downloads/test2\n"
     ]
    }
   ],
   "source": [
    "# Criando diretório\n",
    "new_path = os.getcwd()+'/test2'\n",
    "\n",
    "if os.path.isdir(new_path):\n",
    "    print('diretório já existe')\n",
    "    # Criando um arquivo de texto\n",
    "    with open(new_path+\"/copy.txt\", \"w\") as file:\n",
    "        file.write(\"Your text goes here\")\n",
    "else:\n",
    "    print('Criando diretório '+new_path)\n",
    "    os.mkdir(new_path)\n",
    "    with open(new_path+\"/copy.txt\", \"w\") as file:\n",
    "        file.write(\"Your text goes here\")"
   ]
  },
  {
   "cell_type": "markdown",
   "id": "814956f6-222d-4ad0-b537-7b101e995de2",
   "metadata": {},
   "source": [
    "## Numpy arrays e Pandas DataFrames"
   ]
  },
  {
   "cell_type": "code",
   "execution_count": 56,
   "id": "9f0d89ee-bd70-4ad7-884c-b16536a7ba7e",
   "metadata": {},
   "outputs": [
    {
     "data": {
      "text/plain": [
       "numpy.ndarray"
      ]
     },
     "execution_count": 56,
     "metadata": {},
     "output_type": "execute_result"
    }
   ],
   "source": [
    "import numpy as np\n",
    "# Criando uma variável numpy\n",
    "n = np.array(0)\n",
    "type(n)"
   ]
  },
  {
   "cell_type": "code",
   "execution_count": 57,
   "id": "39ea8e76-b894-40fc-a102-eb59e38a570a",
   "metadata": {},
   "outputs": [
    {
     "name": "stdout",
     "output_type": "stream",
     "text": [
      "[ 1  2  3 10 20 55]\n"
     ]
    }
   ],
   "source": [
    "# Criando uma variável numpy a partir de uma lista\n",
    "myThirdList=[1,2,3,10,20,55]\n",
    "n = np.array(myThirdList)\n",
    "print(n)"
   ]
  },
  {
   "cell_type": "code",
   "execution_count": 58,
   "id": "13414b0b-1681-43e6-9798-265f10a28b59",
   "metadata": {},
   "outputs": [
    {
     "name": "stdout",
     "output_type": "stream",
     "text": [
      "[[0.52265641 0.02470011 0.51220528 0.63040369 0.57178722 0.40060452\n",
      "  0.88638997 0.49599463 0.81976036 0.31047544]\n",
      " [0.99018222 0.67131072 0.72234504 0.68861798 0.90111132 0.74835897\n",
      "  0.99115638 0.06091334 0.87904814 0.68906514]\n",
      " [0.26614308 0.93952419 0.5878983  0.10843012 0.28677541 0.08175595\n",
      "  0.6736901  0.37542421 0.98411279 0.94582735]\n",
      " [0.58182284 0.67994103 0.8304158  0.35222969 0.56834961 0.71041475\n",
      "  0.10103176 0.95861368 0.85105064 0.08720123]\n",
      " [0.07384829 0.27288488 0.12587519 0.83435499 0.63420261 0.57507406\n",
      "  0.32116993 0.30276755 0.65324398 0.88450429]\n",
      " [0.32246238 0.85270908 0.61298845 0.47079814 0.65303431 0.66105337\n",
      "  0.20417801 0.11159129 0.18276094 0.87521994]\n",
      " [0.83751982 0.81583003 0.92674062 0.24759414 0.77394069 0.54423249\n",
      "  0.07992129 0.52500103 0.65598469 0.7531723 ]\n",
      " [0.73635813 0.88105576 0.17723757 0.68054955 0.35859143 0.35720293\n",
      "  0.94477207 0.98390541 0.45261304 0.40168222]\n",
      " [0.86174836 0.5904072  0.55656226 0.08520336 0.47142832 0.16639765\n",
      "  0.68465939 0.60453686 0.96699908 0.93793437]\n",
      " [0.51065449 0.3548773  0.75510682 0.5722331  0.56845851 0.97078757\n",
      "  0.59862496 0.29294891 0.39457682 0.98423569]]\n",
      "(10, 10)\n"
     ]
    }
   ],
   "source": [
    "# Criando uma matriz de 10x10 de números aleatórios entre 0 e 1\n",
    "n = np.random.rand(10,10)\n",
    "print(n)\n",
    "# Dimensões da matrix\n",
    "print(n.shape)"
   ]
  },
  {
   "cell_type": "code",
   "execution_count": 59,
   "id": "89766129-2103-4ad8-bf32-aef298d73297",
   "metadata": {},
   "outputs": [
    {
     "data": {
      "text/plain": [
       "array([0.52265641, 0.02470011, 0.51220528, 0.63040369, 0.57178722,\n",
       "       0.40060452, 0.88638997, 0.49599463, 0.81976036, 0.31047544])"
      ]
     },
     "execution_count": 59,
     "metadata": {},
     "output_type": "execute_result"
    }
   ],
   "source": [
    "# Acessando valores da matriz\n",
    "n[0,:]"
   ]
  },
  {
   "cell_type": "code",
   "execution_count": 60,
   "id": "42bf26c5-6277-4cf6-8cdf-ed3ab0532452",
   "metadata": {},
   "outputs": [
    {
     "data": {
      "text/plain": [
       "array([0.52265641, 0.99018222, 0.26614308, 0.58182284, 0.07384829,\n",
       "       0.32246238, 0.83751982, 0.73635813, 0.86174836, 0.51065449])"
      ]
     },
     "execution_count": 60,
     "metadata": {},
     "output_type": "execute_result"
    }
   ],
   "source": [
    "n[:,0]"
   ]
  },
  {
   "cell_type": "code",
   "execution_count": 61,
   "id": "8f797407-c1cc-4e41-a8a0-07c402f710f8",
   "metadata": {},
   "outputs": [
    {
     "data": {
      "text/plain": [
       "array([[0.02470011, 0.51220528, 0.63040369, 0.57178722],\n",
       "       [0.67131072, 0.72234504, 0.68861798, 0.90111132],\n",
       "       [0.93952419, 0.5878983 , 0.10843012, 0.28677541],\n",
       "       [0.67994103, 0.8304158 , 0.35222969, 0.56834961],\n",
       "       [0.27288488, 0.12587519, 0.83435499, 0.63420261],\n",
       "       [0.85270908, 0.61298845, 0.47079814, 0.65303431],\n",
       "       [0.81583003, 0.92674062, 0.24759414, 0.77394069],\n",
       "       [0.88105576, 0.17723757, 0.68054955, 0.35859143],\n",
       "       [0.5904072 , 0.55656226, 0.08520336, 0.47142832],\n",
       "       [0.3548773 , 0.75510682, 0.5722331 , 0.56845851]])"
      ]
     },
     "execution_count": 61,
     "metadata": {},
     "output_type": "execute_result"
    }
   ],
   "source": [
    "n[:,1:5]"
   ]
  },
  {
   "cell_type": "code",
   "execution_count": 63,
   "id": "a9c34253-1965-4049-b60b-53373ad75f54",
   "metadata": {},
   "outputs": [
    {
     "data": {
      "text/plain": [
       "array([0.02470011, 0.51220528, 0.63040369, 0.57178722])"
      ]
     },
     "execution_count": 63,
     "metadata": {},
     "output_type": "execute_result"
    }
   ],
   "source": [
    "n[0,1:5]"
   ]
  },
  {
   "cell_type": "code",
   "execution_count": 64,
   "id": "57c9abaa-024e-4da1-8b95-84f1539f99b9",
   "metadata": {},
   "outputs": [
    {
     "data": {
      "text/plain": [
       "0.3104754406698075"
      ]
     },
     "execution_count": 64,
     "metadata": {},
     "output_type": "execute_result"
    }
   ],
   "source": [
    "n[0,-1]"
   ]
  },
  {
   "cell_type": "code",
   "execution_count": 65,
   "id": "20c89668-ca81-446a-a8d2-f84c5abd7acb",
   "metadata": {},
   "outputs": [
    {
     "data": {
      "text/plain": [
       "array([0.57178722, 0.40060452, 0.88638997, 0.49599463, 0.81976036])"
      ]
     },
     "execution_count": 65,
     "metadata": {},
     "output_type": "execute_result"
    }
   ],
   "source": [
    "n[0,4:-1]"
   ]
  },
  {
   "cell_type": "code",
   "execution_count": 66,
   "id": "c8864bbd-96e9-4c64-b3e9-374c35f6ec89",
   "metadata": {},
   "outputs": [
    {
     "data": {
      "text/plain": [
       "array([0.57178722, 0.40060452, 0.88638997, 0.49599463, 0.81976036,\n",
       "       0.31047544])"
      ]
     },
     "execution_count": 66,
     "metadata": {},
     "output_type": "execute_result"
    }
   ],
   "source": [
    "n[0,4:]"
   ]
  },
  {
   "cell_type": "code",
   "execution_count": 67,
   "id": "24be3360-886f-4fe6-893b-503395441c74",
   "metadata": {},
   "outputs": [
    {
     "name": "stdout",
     "output_type": "stream",
     "text": [
      "[[ 0.96060692 -2.09150985  0.94040811  1.14804303  1.05044957  0.69465733\n",
      "   1.48883963  0.90824774  1.41069469  0.43978744]\n",
      " [ 1.59957162  1.21091473  1.28418556  1.2363693   1.50531144  1.3195654\n",
      "   1.60055496 -1.18886514  1.4805223   1.23701845]\n",
      " [ 0.2857167   1.5470562   1.07823661 -0.6122115   0.36038201 -0.89457877\n",
      "   1.21445285  0.62973924  1.59342315  1.55374268]\n",
      " [ 1.06784863  1.22368871  1.42360918  0.56596613  1.04441937  1.26753159\n",
      "  -0.68288241  1.56717079  1.44815427 -0.83009897]\n",
      " [-0.99630452  0.31073267 -0.4630265   1.42834159  1.15405112  1.05618146\n",
      "   0.47365299  0.41464798  1.18363333  1.48670999]\n",
      " [ 0.47766911  1.45010106  1.12002873  0.85611206  1.18331231  1.19551721\n",
      "   0.02067485 -0.58347434 -0.09013842  1.47615785]\n",
      " [ 1.43212756  1.40588867  1.53335636  0.21347352  1.35317787  1.00105916\n",
      "  -0.91727504  0.96508285  1.18782009  1.32597665]\n",
      " [ 1.30339922  1.48280355 -0.12082635  1.22458327  0.58386629  0.57998668\n",
      "   1.55262633  1.5932124   0.81672018  0.69734391]\n",
      " [ 1.46064593  1.0824951   1.02346167 -0.85327649  0.85744969 -0.18393697\n",
      "   1.2306041   1.10614528  1.57588018  1.54536262]\n",
      " [ 0.93737585  0.57345472  1.32854185  1.05122907  1.04461097  1.5797903\n",
      "   1.09631793  0.38168086  0.67949648  1.59354803]]\n"
     ]
    }
   ],
   "source": [
    "an = np.log(n*5)\n",
    "print(an)"
   ]
  },
  {
   "cell_type": "code",
   "execution_count": null,
   "id": "c0a9b549-06f7-4fba-b75d-c59f705a41f3",
   "metadata": {},
   "outputs": [],
   "source": []
  }
 ],
 "metadata": {
  "kernelspec": {
   "display_name": "Python 3 (ipykernel)",
   "language": "python",
   "name": "python3"
  },
  "language_info": {
   "codemirror_mode": {
    "name": "ipython",
    "version": 3
   },
   "file_extension": ".py",
   "mimetype": "text/x-python",
   "name": "python",
   "nbconvert_exporter": "python",
   "pygments_lexer": "ipython3",
   "version": "3.11.8"
  }
 },
 "nbformat": 4,
 "nbformat_minor": 5
}
