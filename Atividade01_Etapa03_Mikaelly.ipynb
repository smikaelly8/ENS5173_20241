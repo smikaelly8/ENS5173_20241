{
 "cells": [
  {
   "cell_type": "markdown",
   "id": "21554bb9-9170-4596-87b1-7f91d274ab31",
   "metadata": {},
   "source": [
    "# Atividade Industrial Da Porto Bello "
   ]
  },
  {
   "cell_type": "markdown",
   "id": "518d845e-dcc3-4759-a3a7-c2b4b573664e",
   "metadata": {},
   "source": [
    "### Número de toneladas de revestimento cerâmico produzido mensalmente em 2022"
   ]
  },
  {
   "cell_type": "code",
   "execution_count": 1,
   "id": "718a4491-9e30-47ee-b9fb-ce6a32ca42c8",
   "metadata": {},
   "outputs": [],
   "source": [
    "import random"
   ]
  },
  {
   "cell_type": "code",
   "execution_count": 2,
   "id": "0ac030f9-e590-4f81-8dac-a3e6aa849cb0",
   "metadata": {},
   "outputs": [],
   "source": [
    "toneladas_min = 50000\n",
    "toneladas_max = 70000"
   ]
  },
  {
   "cell_type": "code",
   "execution_count": 3,
   "id": "86b0a554-0b0b-4899-ac64-c0e21e8b7671",
   "metadata": {},
   "outputs": [],
   "source": [
    "numero_meses = 12"
   ]
  },
  {
   "cell_type": "code",
   "execution_count": 4,
   "id": "57c82a3b-b658-4a49-b529-2ad8567125a3",
   "metadata": {},
   "outputs": [],
   "source": [
    "toneladas_por_mes = []"
   ]
  },
  {
   "cell_type": "code",
   "execution_count": 5,
   "id": "8cbc2e54-2680-44d3-8fd5-fd1c6708273b",
   "metadata": {},
   "outputs": [
    {
     "name": "stdout",
     "output_type": "stream",
     "text": [
      "Atividade industrial da Porto Bello no mês 1 : 58105.32762404876 toneladas\n",
      "Atividade industrial da Porto Bello no mês 2 : 67516.03602510586 toneladas\n",
      "Atividade industrial da Porto Bello no mês 3 : 54620.191929337794 toneladas\n",
      "Atividade industrial da Porto Bello no mês 4 : 67753.57638175701 toneladas\n",
      "Atividade industrial da Porto Bello no mês 5 : 54457.98087707441 toneladas\n",
      "Atividade industrial da Porto Bello no mês 6 : 66625.66834052108 toneladas\n",
      "Atividade industrial da Porto Bello no mês 7 : 50580.00234061487 toneladas\n",
      "Atividade industrial da Porto Bello no mês 8 : 59117.94157884406 toneladas\n",
      "Atividade industrial da Porto Bello no mês 9 : 59928.76943306489 toneladas\n",
      "Atividade industrial da Porto Bello no mês 10 : 56200.00433333864 toneladas\n",
      "Atividade industrial da Porto Bello no mês 11 : 58520.503179798216 toneladas\n",
      "Atividade industrial da Porto Bello no mês 12 : 61191.84861339156 toneladas\n"
     ]
    }
   ],
   "source": [
    "for mes in range(1, numero_meses + 1):\n",
    "    atividade_mensal = random.uniform(toneladas_min, toneladas_max)\n",
    "    toneladas_por_mes.append(atividade_mensal)\n",
    "    print(\"Atividade industrial da Porto Bello no mês\", mes, \":\", atividade_mensal, \"toneladas\")\n"
   ]
  },
  {
   "cell_type": "markdown",
   "id": "9a73d7b8-4bda-4695-a589-24497d5b4008",
   "metadata": {},
   "source": [
    "### Número de toneladas de revestimento cerâmico produzido no ano de 2022"
   ]
  },
  {
   "cell_type": "code",
   "execution_count": 6,
   "id": "9b9254c5-e662-48a2-addb-06026a0d7044",
   "metadata": {},
   "outputs": [
    {
     "name": "stdout",
     "output_type": "stream",
     "text": [
      "\n",
      "Soma total de toneladas de todos os meses: 714617.8506568971 toneladas\n"
     ]
    }
   ],
   "source": [
    "soma_total = sum(toneladas_por_mes)\n",
    "print(\"\\nSoma total de toneladas de todos os meses:\", soma_total, \"toneladas\")"
   ]
  },
  {
   "cell_type": "markdown",
   "id": "99ac913c-1678-4ac8-b725-bd1c0609bdbc",
   "metadata": {},
   "source": [
    "##### Segundo dados da Porto Bello a empresa produziu cerca de 716952.0 toneladas de revestimento cerâmico em 2022, valor muito próximo da soma dos valores aleatórios.\n"
   ]
  },
  {
   "cell_type": "code",
   "execution_count": null,
   "id": "2538a59d-4867-4d03-a0ab-9e9781733b09",
   "metadata": {},
   "outputs": [],
   "source": []
  }
 ],
 "metadata": {
  "kernelspec": {
   "display_name": "Python 3 (ipykernel)",
   "language": "python",
   "name": "python3"
  },
  "language_info": {
   "codemirror_mode": {
    "name": "ipython",
    "version": 3
   },
   "file_extension": ".py",
   "mimetype": "text/x-python",
   "name": "python",
   "nbconvert_exporter": "python",
   "pygments_lexer": "ipython3",
   "version": "3.11.8"
  }
 },
 "nbformat": 4,
 "nbformat_minor": 5
}
